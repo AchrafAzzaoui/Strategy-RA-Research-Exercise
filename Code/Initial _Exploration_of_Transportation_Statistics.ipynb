{
 "cells": [
  {
   "cell_type": "code",
   "execution_count": 28,
   "id": "f73d3045",
   "metadata": {},
   "outputs": [],
   "source": [
    "import pandas as pd\n",
    "import matplotlib as plt\n",
    "import numpy as py\n",
    "import sklearn"
   ]
  },
  {
   "cell_type": "code",
   "execution_count": 34,
   "id": "2fe2436a",
   "metadata": {},
   "outputs": [
    {
     "data": {
      "text/html": [
       "<div>\n",
       "<style scoped>\n",
       "    .dataframe tbody tr th:only-of-type {\n",
       "        vertical-align: middle;\n",
       "    }\n",
       "\n",
       "    .dataframe tbody tr th {\n",
       "        vertical-align: top;\n",
       "    }\n",
       "\n",
       "    .dataframe thead th {\n",
       "        text-align: right;\n",
       "    }\n",
       "</style>\n",
       "<table border=\"1\" class=\"dataframe\">\n",
       "  <thead>\n",
       "    <tr style=\"text-align: right;\">\n",
       "      <th></th>\n",
       "      <th>Type</th>\n",
       "      <th>Mode</th>\n",
       "      <th>Year</th>\n",
       "      <th>Currentdollars</th>\n",
       "    </tr>\n",
       "  </thead>\n",
       "  <tbody>\n",
       "    <tr>\n",
       "      <th>0</th>\n",
       "      <td>Revenue</td>\n",
       "      <td>General Support</td>\n",
       "      <td>2020</td>\n",
       "      <td>4.800000e+05</td>\n",
       "    </tr>\n",
       "    <tr>\n",
       "      <th>1</th>\n",
       "      <td>Revenue</td>\n",
       "      <td>Pipeline</td>\n",
       "      <td>2020</td>\n",
       "      <td>1.580000e+05</td>\n",
       "    </tr>\n",
       "    <tr>\n",
       "      <th>2</th>\n",
       "      <td>Revenue</td>\n",
       "      <td>Water</td>\n",
       "      <td>2020</td>\n",
       "      <td>1.784773e+07</td>\n",
       "    </tr>\n",
       "    <tr>\n",
       "      <th>3</th>\n",
       "      <td>Revenue</td>\n",
       "      <td>Air</td>\n",
       "      <td>2020</td>\n",
       "      <td>3.840042e+07</td>\n",
       "    </tr>\n",
       "    <tr>\n",
       "      <th>4</th>\n",
       "      <td>Revenue</td>\n",
       "      <td>Railroads</td>\n",
       "      <td>2020</td>\n",
       "      <td>3.344000e+06</td>\n",
       "    </tr>\n",
       "  </tbody>\n",
       "</table>\n",
       "</div>"
      ],
      "text/plain": [
       "      Type             Mode  Year  Currentdollars\n",
       "0  Revenue  General Support  2020    4.800000e+05\n",
       "1  Revenue         Pipeline  2020    1.580000e+05\n",
       "2  Revenue            Water  2020    1.784773e+07\n",
       "3  Revenue              Air  2020    3.840042e+07\n",
       "4  Revenue        Railroads  2020    3.344000e+06"
      ]
     },
     "execution_count": 34,
     "metadata": {},
     "output_type": "execute_result"
    }
   ],
   "source": [
    "file_path = r\"C:\\Users\\achra\\Downloads\\Strategy RA Research Exercise\\2015_to_2020_Revenue_and_Expenditure_by_Transportation_Mode.csv\"\n",
    "df = pd.read_csv(file_path)\n",
    "df.head()\n"
   ]
  },
  {
   "cell_type": "code",
   "execution_count": 39,
   "id": "e8b74924",
   "metadata": {},
   "outputs": [
    {
     "data": {
      "text/html": [
       "<div>\n",
       "<style scoped>\n",
       "    .dataframe tbody tr th:only-of-type {\n",
       "        vertical-align: middle;\n",
       "    }\n",
       "\n",
       "    .dataframe tbody tr th {\n",
       "        vertical-align: top;\n",
       "    }\n",
       "\n",
       "    .dataframe thead th {\n",
       "        text-align: right;\n",
       "    }\n",
       "</style>\n",
       "<table border=\"1\" class=\"dataframe\">\n",
       "  <thead>\n",
       "    <tr style=\"text-align: right;\">\n",
       "      <th></th>\n",
       "      <th>Type</th>\n",
       "      <th>Mode</th>\n",
       "      <th>Year</th>\n",
       "      <th>Dollars</th>\n",
       "    </tr>\n",
       "  </thead>\n",
       "  <tbody>\n",
       "    <tr>\n",
       "      <th>0</th>\n",
       "      <td>Revenue</td>\n",
       "      <td>General Support</td>\n",
       "      <td>2020</td>\n",
       "      <td>4.800000e+05</td>\n",
       "    </tr>\n",
       "    <tr>\n",
       "      <th>1</th>\n",
       "      <td>Revenue</td>\n",
       "      <td>Pipeline</td>\n",
       "      <td>2020</td>\n",
       "      <td>1.580000e+05</td>\n",
       "    </tr>\n",
       "    <tr>\n",
       "      <th>2</th>\n",
       "      <td>Revenue</td>\n",
       "      <td>Water</td>\n",
       "      <td>2020</td>\n",
       "      <td>1.784773e+07</td>\n",
       "    </tr>\n",
       "    <tr>\n",
       "      <th>3</th>\n",
       "      <td>Revenue</td>\n",
       "      <td>Air</td>\n",
       "      <td>2020</td>\n",
       "      <td>3.840042e+07</td>\n",
       "    </tr>\n",
       "    <tr>\n",
       "      <th>4</th>\n",
       "      <td>Revenue</td>\n",
       "      <td>Railroads</td>\n",
       "      <td>2020</td>\n",
       "      <td>3.344000e+06</td>\n",
       "    </tr>\n",
       "  </tbody>\n",
       "</table>\n",
       "</div>"
      ],
      "text/plain": [
       "      Type             Mode  Year       Dollars\n",
       "0  Revenue  General Support  2020  4.800000e+05\n",
       "1  Revenue         Pipeline  2020  1.580000e+05\n",
       "2  Revenue            Water  2020  1.784773e+07\n",
       "3  Revenue              Air  2020  3.840042e+07\n",
       "4  Revenue        Railroads  2020  3.344000e+06"
      ]
     },
     "execution_count": 39,
     "metadata": {},
     "output_type": "execute_result"
    }
   ],
   "source": [
    "mapping = {'Currentdollars': 'Dollars'}\n",
    "df = df.rename(mapper = mapping, axis =1)\n",
    "df.head()"
   ]
  },
  {
   "cell_type": "code",
   "execution_count": 45,
   "id": "53b3d546",
   "metadata": {},
   "outputs": [
    {
     "data": {
      "text/plain": [
       "45707991.3659997"
      ]
     },
     "execution_count": 45,
     "metadata": {},
     "output_type": "execute_result"
    }
   ],
   "source": [
    "total_profit = (df.query('(Type == \"Revenue\")  & (Mode == \"Total\")')['Dollars'].sum()) - (df.query('(Type == \"Expenditure\") & (Mode == \"Total\") ')['Dollars'].sum())\n",
    "total_profit\n"
   ]
  }
 ],
 "metadata": {
  "kernelspec": {
   "display_name": "Python 3 (ipykernel)",
   "language": "python",
   "name": "python3"
  },
  "language_info": {
   "codemirror_mode": {
    "name": "ipython",
    "version": 3
   },
   "file_extension": ".py",
   "mimetype": "text/x-python",
   "name": "python",
   "nbconvert_exporter": "python",
   "pygments_lexer": "ipython3",
   "version": "3.11.4"
  }
 },
 "nbformat": 4,
 "nbformat_minor": 5
}
